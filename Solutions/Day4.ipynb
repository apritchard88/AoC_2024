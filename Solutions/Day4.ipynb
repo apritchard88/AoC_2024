{
 "cells": [
  {
   "cell_type": "code",
   "execution_count": 85,
   "id": "dd923800",
   "metadata": {},
   "outputs": [],
   "source": [
    "data_path = \"data/Day_4_input.txt\"\n",
    "with open(data_path) as file:\n",
    "    lines = [line.rstrip() for line in file]"
   ]
  },
  {
   "cell_type": "markdown",
   "id": "4c20c5a9",
   "metadata": {},
   "source": [
    "## Part 1\n",
    "\n",
    "We need to look for every occurrence of XMAS in the grid of letters. It can be in any direction."
   ]
  },
  {
   "cell_type": "code",
   "execution_count": 86,
   "id": "2829ac7b",
   "metadata": {},
   "outputs": [],
   "source": [
    "# Read the grid as a list of lists for easy iteration\n",
    "grid = []\n",
    "\n",
    "for line in lines:\n",
    "    grid.append([letter for letter in line])"
   ]
  },
  {
   "cell_type": "code",
   "execution_count": 75,
   "id": "1a2a9310",
   "metadata": {},
   "outputs": [],
   "source": [
    "# Function to check if a coordinate is valid given the grid size, to prevent index out of bounds erros\n",
    "def check_valid(row, col, nrow, ncol):\n",
    "    valid = True\n",
    "    if row < 0:\n",
    "        valid = False\n",
    "    if row > nrow:\n",
    "        valid = False\n",
    "    if col < 0:\n",
    "        valid = False\n",
    "    if col > ncol:\n",
    "        valid = False\n",
    "    return valid"
   ]
  },
  {
   "cell_type": "code",
   "execution_count": 76,
   "id": "ffa758a3",
   "metadata": {},
   "outputs": [],
   "source": [
    "# Function to check if the given coordinate contains the given letter\n",
    "def check_letter(grid, row, col, letter):\n",
    "    \n",
    "    nrow = len(grid) - 1\n",
    "    ncol = len(grid[0]) - 1\n",
    "    \n",
    "    match = check_valid(row, col, nrow, ncol)\n",
    "    if match:\n",
    "        this_letter = grid[row][col]\n",
    "        if this_letter == letter:\n",
    "            match = True\n",
    "        else:\n",
    "            match = False\n",
    "        \n",
    "    return match"
   ]
  },
  {
   "cell_type": "markdown",
   "id": "4e148e40",
   "metadata": {},
   "source": [
    "The easiest option I can think is to find every X in the grid and check all of the possible directions from each X to see if it spells XMAS."
   ]
  },
  {
   "cell_type": "code",
   "execution_count": 79,
   "id": "4d622e86",
   "metadata": {},
   "outputs": [
    {
     "name": "stdout",
     "output_type": "stream",
     "text": [
      "XMAS found down-right from 0, 4\n",
      "XMAS found right from 0, 5\n",
      "XMAS found left from 1, 4\n",
      "XMAS found down from 3, 9\n",
      "XMAS found down-left from 3, 9\n",
      "XMAS found right from 4, 0\n",
      "XMAS found left from 4, 6\n",
      "XMAS found up from 4, 6\n",
      "XMAS found up-right from 5, 0\n",
      "XMAS found up-left from 5, 6\n",
      "XMAS found up-right from 9, 1\n",
      "XMAS found up-left from 9, 3\n",
      "XMAS found up-right from 9, 3\n",
      "XMAS found right from 9, 5\n",
      "XMAS found up-left from 9, 5\n",
      "XMAS found up-right from 9, 5\n",
      "XMAS found up-left from 9, 9\n",
      "XMAS found up from 9, 9\n"
     ]
    }
   ],
   "source": [
    "matches = 0\n",
    "\n",
    "for row in range(len(grid)):\n",
    "    for col in range(len(grid[row])):\n",
    "        letter = grid[row][col]\n",
    "        if letter == 'X':\n",
    "            # check right\n",
    "            find_M = check_letter(grid, row, col+1, 'M')\n",
    "            if find_M:\n",
    "                find_A = check_letter(grid, row, col+2, 'A')\n",
    "                if find_A:\n",
    "                    find_S = check_letter(grid, row, col+3, 'S')\n",
    "                    if find_S:\n",
    "                        matches += 1\n",
    "                        print(f'XMAS found right from {row}, {col}')\n",
    "            # check down-right\n",
    "            find_M = check_letter(grid, row+1, col+1, 'M')\n",
    "            if find_M:\n",
    "                find_A = check_letter(grid, row+2, col+2, 'A')\n",
    "                if find_A:\n",
    "                    find_S = check_letter(grid, row+3, col+3, 'S')\n",
    "                    if find_S:\n",
    "                        matches += 1\n",
    "                        print(f'XMAS found down-right from {row}, {col}')\n",
    "            # check down\n",
    "            find_M = check_letter(grid, row+1, col, 'M')\n",
    "            if find_M:\n",
    "                find_A = check_letter(grid, row+2, col, 'A')\n",
    "                if find_A:\n",
    "                    find_S = check_letter(grid, row+3, col, 'S')\n",
    "                    if find_S:\n",
    "                        matches += 1\n",
    "                        print(f'XMAS found down from {row}, {col}')\n",
    "            # check down-left\n",
    "            find_M = check_letter(grid, row+1, col-1, 'M')\n",
    "            if find_M:\n",
    "                find_A = check_letter(grid, row+2, col-2, 'A')\n",
    "                if find_A:\n",
    "                    find_S = check_letter(grid, row+3, col-3, 'S')\n",
    "                    if find_S:\n",
    "                        matches += 1\n",
    "                        print(f'XMAS found down-left from {row}, {col}')\n",
    "            # check left\n",
    "            find_M = check_letter(grid, row, col-1, 'M')\n",
    "            if find_M:\n",
    "                find_A = check_letter(grid, row, col-2, 'A')\n",
    "                if find_A:\n",
    "                    find_S = check_letter(grid, row, col-3, 'S')\n",
    "                    if find_S:\n",
    "                        matches += 1\n",
    "                        print(f'XMAS found left from {row}, {col}')\n",
    "            # check left-up\n",
    "            find_M = check_letter(grid, row-1, col-1, 'M')\n",
    "            if find_M:\n",
    "                find_A = check_letter(grid, row-2, col-2, 'A')\n",
    "                if find_A:\n",
    "                    find_S = check_letter(grid, row-3, col-3, 'S')\n",
    "                    if find_S:\n",
    "                        matches += 1\n",
    "                        print(f'XMAS found up-left from {row}, {col}')\n",
    "            # check up\n",
    "            find_M = check_letter(grid, row-1, col, 'M')\n",
    "            if find_M:\n",
    "                find_A = check_letter(grid, row-2, col, 'A')\n",
    "                if find_A:\n",
    "                    find_S = check_letter(grid, row-3, col, 'S')\n",
    "                    if find_S:\n",
    "                        matches += 1\n",
    "                        print(f'XMAS found up from {row}, {col}')\n",
    "            # check up-right\n",
    "            find_M = check_letter(grid, row-1, col+1, 'M')\n",
    "            if find_M:\n",
    "                find_A = check_letter(grid, row-2, col+2, 'A')\n",
    "                if find_A:\n",
    "                    find_S = check_letter(grid, row-3, col+3, 'S')\n",
    "                    if find_S:\n",
    "                        matches += 1\n",
    "                        print(f'XMAS found up-right from {row}, {col}')"
   ]
  },
  {
   "cell_type": "code",
   "execution_count": 80,
   "id": "955e908a",
   "metadata": {},
   "outputs": [
    {
     "data": {
      "text/plain": [
       "18"
      ]
     },
     "execution_count": 80,
     "metadata": {},
     "output_type": "execute_result"
    }
   ],
   "source": [
    "matches"
   ]
  },
  {
   "cell_type": "markdown",
   "id": "a40d6693",
   "metadata": {},
   "source": [
    "## Part 2\n",
    "\n",
    "In part 2 we find we actually need to look for instances of the letters MAS in the shape of an X\n",
    "\n",
    "S . S       M . M      S . M      M . S\n",
    "\n",
    ". A .   or  . A .  or  . A .  or  . A .\n",
    "\n",
    "M . M       S . S      S . M      M . S\n",
    "\n",
    "I can just reuse the same check_letter function and check all 4 options whenever I find an 'A' in the grid."
   ]
  },
  {
   "cell_type": "code",
   "execution_count": 87,
   "id": "185da5a2",
   "metadata": {},
   "outputs": [],
   "source": [
    "matches = 0\n",
    "row = 0\n",
    "for row in range(len(grid)):\n",
    "    for col in range(len(grid[row])):\n",
    "        letter = grid[row][col]\n",
    "        if letter == 'A':\n",
    "            # Check MAS X MAS\n",
    "            mas = check_letter(grid, row-1, col+1, 'M')\n",
    "            if mas:\n",
    "                mas = check_letter(grid, row+1, col+1, 'S')\n",
    "                if mas:\n",
    "                    mas = check_letter(grid, row+1, col-1, 'S')\n",
    "                    if mas:\n",
    "                        mas = check_letter(grid, row-1, col-1, 'M')\n",
    "                        if mas:\n",
    "                            matches += 1\n",
    "            # Check SAM X SAM\n",
    "            mas = check_letter(grid, row-1, col+1, 'S')\n",
    "            if mas:\n",
    "                mas = check_letter(grid, row+1, col+1, 'M')\n",
    "                if mas:\n",
    "                    mas = check_letter(grid, row+1, col-1, 'M')\n",
    "                    if mas:\n",
    "                        mas = check_letter(grid, row-1, col-1, 'S')\n",
    "                        if mas:\n",
    "                            matches += 1\n",
    "            # Check SAM X MAS\n",
    "            mas = check_letter(grid, row-1, col+1, 'M')\n",
    "            if mas:\n",
    "                mas = check_letter(grid, row+1, col+1, 'M')\n",
    "                if mas:\n",
    "                    mas = check_letter(grid, row+1, col-1, 'S')\n",
    "                    if mas:\n",
    "                        mas = check_letter(grid, row-1, col-1, 'S')\n",
    "                        if mas:\n",
    "                            matches += 1\n",
    "            # Check MAS X SAM\n",
    "            mas = check_letter(grid, row-1, col+1, 'S')\n",
    "            if mas:\n",
    "                mas = check_letter(grid, row+1, col+1, 'S')\n",
    "                if mas:\n",
    "                    mas = check_letter(grid, row+1, col-1, 'M')\n",
    "                    if mas:\n",
    "                        mas = check_letter(grid, row-1, col-1, 'M')\n",
    "                        if mas:\n",
    "                            matches += 1\n"
   ]
  },
  {
   "cell_type": "code",
   "execution_count": 88,
   "id": "81347964",
   "metadata": {},
   "outputs": [
    {
     "data": {
      "text/plain": [
       "2005"
      ]
     },
     "execution_count": 88,
     "metadata": {},
     "output_type": "execute_result"
    }
   ],
   "source": [
    "matches"
   ]
  },
  {
   "cell_type": "code",
   "execution_count": null,
   "id": "d4c22623",
   "metadata": {},
   "outputs": [],
   "source": []
  }
 ],
 "metadata": {
  "kernelspec": {
   "display_name": "Python 3 (ipykernel)",
   "language": "python",
   "name": "python3"
  },
  "language_info": {
   "codemirror_mode": {
    "name": "ipython",
    "version": 3
   },
   "file_extension": ".py",
   "mimetype": "text/x-python",
   "name": "python",
   "nbconvert_exporter": "python",
   "pygments_lexer": "ipython3",
   "version": "3.11.5"
  }
 },
 "nbformat": 4,
 "nbformat_minor": 5
}
