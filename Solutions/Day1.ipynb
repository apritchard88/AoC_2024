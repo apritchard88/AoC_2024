{
 "cells": [
  {
   "cell_type": "markdown",
   "id": "f4428d7a",
   "metadata": {},
   "source": [
    "# Day 1\n",
    "\n",
    "Having looked at the data, a quick and easy way to read it in this time will be treating it as a delimited file with '   ' as the delimiter, and using pandas read_csv."
   ]
  },
  {
   "cell_type": "code",
   "execution_count": 9,
   "id": "8c95d23c",
   "metadata": {},
   "outputs": [],
   "source": [
    "import pandas as pd"
   ]
  },
  {
   "cell_type": "code",
   "execution_count": null,
   "id": "ba0dc4cb",
   "metadata": {},
   "outputs": [],
   "source": [
    "data_path = \"data/Day_1_input.txt\""
   ]
  },
  {
   "cell_type": "code",
   "execution_count": 12,
   "id": "211c227b",
   "metadata": {},
   "outputs": [
    {
     "name": "stderr",
     "output_type": "stream",
     "text": [
      "C:\\Users\\adrian.pritchard\\AppData\\Local\\Temp\\ipykernel_3904\\4265293538.py:1: ParserWarning: Falling back to the 'python' engine because the 'c' engine does not support regex separators (separators > 1 char and different from '\\s+' are interpreted as regex); you can avoid this warning by specifying engine='python'.\n",
      "  data = pd.read_csv(data_path, sep=\"   \", header=None, names=['list_1', 'list_2'])\n"
     ]
    }
   ],
   "source": [
    "data = pd.read_csv(data_path, sep=\"   \", header=None, names=['list_1', 'list_2'])"
   ]
  },
  {
   "cell_type": "code",
   "execution_count": 13,
   "id": "f1ef7276",
   "metadata": {},
   "outputs": [
    {
     "data": {
      "text/html": [
       "<div>\n",
       "<style scoped>\n",
       "    .dataframe tbody tr th:only-of-type {\n",
       "        vertical-align: middle;\n",
       "    }\n",
       "\n",
       "    .dataframe tbody tr th {\n",
       "        vertical-align: top;\n",
       "    }\n",
       "\n",
       "    .dataframe thead th {\n",
       "        text-align: right;\n",
       "    }\n",
       "</style>\n",
       "<table border=\"1\" class=\"dataframe\">\n",
       "  <thead>\n",
       "    <tr style=\"text-align: right;\">\n",
       "      <th></th>\n",
       "      <th>list_1</th>\n",
       "      <th>list_2</th>\n",
       "    </tr>\n",
       "  </thead>\n",
       "  <tbody>\n",
       "    <tr>\n",
       "      <th>0</th>\n",
       "      <td>56208</td>\n",
       "      <td>95668</td>\n",
       "    </tr>\n",
       "    <tr>\n",
       "      <th>1</th>\n",
       "      <td>52621</td>\n",
       "      <td>74203</td>\n",
       "    </tr>\n",
       "    <tr>\n",
       "      <th>2</th>\n",
       "      <td>95252</td>\n",
       "      <td>33335</td>\n",
       "    </tr>\n",
       "    <tr>\n",
       "      <th>3</th>\n",
       "      <td>79799</td>\n",
       "      <td>26047</td>\n",
       "    </tr>\n",
       "    <tr>\n",
       "      <th>4</th>\n",
       "      <td>88005</td>\n",
       "      <td>37435</td>\n",
       "    </tr>\n",
       "    <tr>\n",
       "      <th>...</th>\n",
       "      <td>...</td>\n",
       "      <td>...</td>\n",
       "    </tr>\n",
       "    <tr>\n",
       "      <th>995</th>\n",
       "      <td>53455</td>\n",
       "      <td>38875</td>\n",
       "    </tr>\n",
       "    <tr>\n",
       "      <th>996</th>\n",
       "      <td>66703</td>\n",
       "      <td>40727</td>\n",
       "    </tr>\n",
       "    <tr>\n",
       "      <th>997</th>\n",
       "      <td>76244</td>\n",
       "      <td>92842</td>\n",
       "    </tr>\n",
       "    <tr>\n",
       "      <th>998</th>\n",
       "      <td>87526</td>\n",
       "      <td>49664</td>\n",
       "    </tr>\n",
       "    <tr>\n",
       "      <th>999</th>\n",
       "      <td>92147</td>\n",
       "      <td>87526</td>\n",
       "    </tr>\n",
       "  </tbody>\n",
       "</table>\n",
       "<p>1000 rows × 2 columns</p>\n",
       "</div>"
      ],
      "text/plain": [
       "     list_1  list_2\n",
       "0     56208   95668\n",
       "1     52621   74203\n",
       "2     95252   33335\n",
       "3     79799   26047\n",
       "4     88005   37435\n",
       "..      ...     ...\n",
       "995   53455   38875\n",
       "996   66703   40727\n",
       "997   76244   92842\n",
       "998   87526   49664\n",
       "999   92147   87526\n",
       "\n",
       "[1000 rows x 2 columns]"
      ]
     },
     "execution_count": 13,
     "metadata": {},
     "output_type": "execute_result"
    }
   ],
   "source": [
    "data"
   ]
  },
  {
   "cell_type": "markdown",
   "id": "7005ab44",
   "metadata": {},
   "source": [
    "## Part 1\n",
    "\n",
    "Part 1 requires both lists of numbers to be sorted in ascending order, then the modulus of the difference between the each element from the lists calculated. The answer is then the sum of those differences."
   ]
  },
  {
   "cell_type": "code",
   "execution_count": 25,
   "id": "50ff91c0",
   "metadata": {},
   "outputs": [],
   "source": [
    "# Need to sort each list, use ignore_index = True to allow element wise subtraction to work\n",
    "l1_sorted = data['list_1'].sort_values(ignore_index=True)\n",
    "l2_sorted = data['list_2'].sort_values(ignore_index=True)"
   ]
  },
  {
   "cell_type": "code",
   "execution_count": 29,
   "id": "09ca1b60",
   "metadata": {},
   "outputs": [
    {
     "data": {
      "text/plain": [
       "2285373"
      ]
     },
     "execution_count": 29,
     "metadata": {},
     "output_type": "execute_result"
    }
   ],
   "source": [
    "sum(abs(l1_sorted - l2_sorted))"
   ]
  },
  {
   "cell_type": "markdown",
   "id": "aff971e6",
   "metadata": {},
   "source": [
    "## Part 2\n",
    "\n",
    "In part 2 we have to find how many times each element from the first list appears in the second, then find the product of each element with its number of occurences. The answer is then the sum of these products."
   ]
  },
  {
   "cell_type": "code",
   "execution_count": 33,
   "id": "cbed84ce",
   "metadata": {},
   "outputs": [],
   "source": [
    "# Turn each into a list so we can use some list comprehension to complete the puzzle\n",
    "l1 = list(l1_sorted)\n",
    "l2 = list(l2_sorted)"
   ]
  },
  {
   "cell_type": "code",
   "execution_count": 40,
   "id": "29435e2b",
   "metadata": {},
   "outputs": [],
   "source": [
    "# Count the occurences, create a new list containing [value, occurences in list 2] for each element of list 1\n",
    "num_count = [[x,l2.count(x)] for x in l1]"
   ]
  },
  {
   "cell_type": "code",
   "execution_count": 41,
   "id": "ac7d682e",
   "metadata": {},
   "outputs": [
    {
     "data": {
      "text/plain": [
       "21142653"
      ]
     },
     "execution_count": 41,
     "metadata": {},
     "output_type": "execute_result"
    }
   ],
   "source": [
    "# List comprehension to multiply the pairs of numbers together, then sum\n",
    "sum([x*y for x,y in num_count])"
   ]
  },
  {
   "cell_type": "code",
   "execution_count": null,
   "id": "153d9d64",
   "metadata": {},
   "outputs": [],
   "source": []
  }
 ],
 "metadata": {
  "kernelspec": {
   "display_name": "Python 3 (ipykernel)",
   "language": "python",
   "name": "python3"
  },
  "language_info": {
   "codemirror_mode": {
    "name": "ipython",
    "version": 3
   },
   "file_extension": ".py",
   "mimetype": "text/x-python",
   "name": "python",
   "nbconvert_exporter": "python",
   "pygments_lexer": "ipython3",
   "version": "3.11.5"
  }
 },
 "nbformat": 4,
 "nbformat_minor": 5
}
