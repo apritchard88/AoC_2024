{
 "cells": [
  {
   "cell_type": "code",
   "execution_count": 4,
   "id": "100b9c1a",
   "metadata": {},
   "outputs": [],
   "source": [
    "import re"
   ]
  },
  {
   "cell_type": "code",
   "execution_count": 1,
   "id": "f71c0a96",
   "metadata": {},
   "outputs": [],
   "source": [
    "data_path = \"data/Day_3_input.txt\""
   ]
  },
  {
   "cell_type": "code",
   "execution_count": 2,
   "id": "909f4fff",
   "metadata": {},
   "outputs": [],
   "source": [
    "with open(data_path) as file:\n",
    "    lines = [line.rstrip() for line in file]"
   ]
  },
  {
   "cell_type": "code",
   "execution_count": 31,
   "id": "8364c64c",
   "metadata": {},
   "outputs": [],
   "source": [
    "line_0 = re.findall(r'mul\\(\\d{1,3},\\d{1,3}\\)', lines[0])"
   ]
  },
  {
   "cell_type": "code",
   "execution_count": 35,
   "id": "cd4b796c",
   "metadata": {},
   "outputs": [
    {
     "data": {
      "text/plain": [
       "'382'"
      ]
     },
     "execution_count": 35,
     "metadata": {},
     "output_type": "execute_result"
    }
   ],
   "source": [
    "re.sub('\\D', '', line_0[0].split(',')[0])"
   ]
  },
  {
   "cell_type": "code",
   "execution_count": 36,
   "id": "ef457a74",
   "metadata": {},
   "outputs": [],
   "source": [
    "def calc_prod(line):\n",
    "    # first split at the comma\n",
    "    halves = line.split(',')\n",
    "    first_val = int(re.sub('\\D', '', halves[0]))\n",
    "    second_val = int(re.sub('\\D', '', halves[1]))\n",
    "    \n",
    "    # return the product\n",
    "    return first_val*second_val"
   ]
  },
  {
   "cell_type": "code",
   "execution_count": 39,
   "id": "7ad26d5a",
   "metadata": {},
   "outputs": [
    {
     "data": {
      "text/plain": [
       "48896"
      ]
     },
     "execution_count": 39,
     "metadata": {},
     "output_type": "execute_result"
    }
   ],
   "source": [
    "calc_prod(line_0[0])"
   ]
  },
  {
   "cell_type": "code",
   "execution_count": 45,
   "id": "97dca21e",
   "metadata": {},
   "outputs": [
    {
     "name": "stdout",
     "output_type": "stream",
     "text": [
      "168539636\n"
     ]
    }
   ],
   "source": [
    "total = 0\n",
    "for line in lines:\n",
    "    \n",
    "    # Get values and find where they appear in the list\n",
    "    stripped = re.findall(r'mul\\(\\d{1,3},\\d{1,3}\\)', line)\n",
    "    iter = re.finditer(r'mul\\(\\d{1,3},\\d{1,3}\\)', lines[0])\n",
    "    indices = [m.start(0) for m in iter]\n",
    "    prods = [calc_prod(vals) for vals in stripped]\n",
    "    line_total = sum(prods)\n",
    "    total += line_total\n",
    "    \n",
    "print(total)"
   ]
  },
  {
   "cell_type": "code",
   "execution_count": 41,
   "id": "8d1c435a",
   "metadata": {},
   "outputs": [],
   "source": [
    "iter = re.finditer(r'mul\\(\\d{1,3},\\d{1,3}\\)', lines[0])"
   ]
  },
  {
   "cell_type": "code",
   "execution_count": 43,
   "id": "cb1ae728",
   "metadata": {},
   "outputs": [],
   "source": [
    "indices = [m.start(0) for m in iter]"
   ]
  },
  {
   "cell_type": "code",
   "execution_count": 47,
   "id": "e896a841",
   "metadata": {},
   "outputs": [
    {
     "data": {
      "text/plain": [
       "[36505,\n",
       " 302204,\n",
       " 354960,\n",
       " 417414,\n",
       " 378738,\n",
       " 442250,\n",
       " 351645,\n",
       " 7140,\n",
       " 267890,\n",
       " 192270,\n",
       " 256743,\n",
       " 100650,\n",
       " 504134,\n",
       " 240352,\n",
       " 280026,\n",
       " 431984,\n",
       " 5200,\n",
       " 277629,\n",
       " 128235,\n",
       " 25317,\n",
       " 244976,\n",
       " 451494,\n",
       " 75129,\n",
       " 90012,\n",
       " 485792,\n",
       " 5562,\n",
       " 21926,\n",
       " 11000,\n",
       " 128312,\n",
       " 418880,\n",
       " 490261,\n",
       " 433116,\n",
       " 43728,\n",
       " 227550,\n",
       " 284130,\n",
       " 657033,\n",
       " 312740,\n",
       " 349180,\n",
       " 448625,\n",
       " 399760,\n",
       " 208161,\n",
       " 330105,\n",
       " 345396,\n",
       " 685232,\n",
       " 53064,\n",
       " 849816,\n",
       " 96625,\n",
       " 12091,\n",
       " 407184,\n",
       " 298584,\n",
       " 25270,\n",
       " 44100,\n",
       " 81892,\n",
       " 82455,\n",
       " 7960,\n",
       " 143591,\n",
       " 97446,\n",
       " 707056,\n",
       " 140798,\n",
       " 205545,\n",
       " 293514,\n",
       " 18088,\n",
       " 22839,\n",
       " 18281,\n",
       " 167676,\n",
       " 467858,\n",
       " 156604,\n",
       " 179190,\n",
       " 9555,\n",
       " 68450,\n",
       " 273058,\n",
       " 909995,\n",
       " 288535,\n",
       " 17748,\n",
       " 28036,\n",
       " 742976,\n",
       " 60551,\n",
       " 520755,\n",
       " 16632,\n",
       " 741960,\n",
       " 241331,\n",
       " 114988,\n",
       " 42835,\n",
       " 30644,\n",
       " 141048,\n",
       " 86020,\n",
       " 94037,\n",
       " 693864,\n",
       " 29820,\n",
       " 63742,\n",
       " 172776,\n",
       " 97650,\n",
       " 151755,\n",
       " 61404,\n",
       " 467892,\n",
       " 489700,\n",
       " 546974,\n",
       " 300672,\n",
       " 314640,\n",
       " 418285,\n",
       " 549984,\n",
       " 285719,\n",
       " 26158,\n",
       " 127036,\n",
       " 114660,\n",
       " 728622,\n",
       " 700245,\n",
       " 15405,\n",
       " 155595,\n",
       " 163300,\n",
       " 140490,\n",
       " 122491]"
      ]
     },
     "execution_count": 47,
     "metadata": {},
     "output_type": "execute_result"
    }
   ],
   "source": [
    "prods"
   ]
  },
  {
   "cell_type": "markdown",
   "id": "102bef65",
   "metadata": {},
   "source": [
    "## Part 2"
   ]
  },
  {
   "cell_type": "code",
   "execution_count": 49,
   "id": "745fca6a",
   "metadata": {},
   "outputs": [],
   "source": [
    "line_joined = ''.join(lines)"
   ]
  },
  {
   "cell_type": "code",
   "execution_count": 52,
   "id": "b314984c",
   "metadata": {},
   "outputs": [],
   "source": [
    "# First find the products and the locations in the string\n",
    "stripped = re.findall(r'mul\\(\\d{1,3},\\d{1,3}\\)', line_joined)\n",
    "iter = re.finditer(r'mul\\(\\d{1,3},\\d{1,3}\\)', line_joined)\n",
    "indices = [m.start(0) for m in iter]\n",
    "prods = [calc_prod(vals) for vals in stripped]"
   ]
  },
  {
   "cell_type": "code",
   "execution_count": 53,
   "id": "f8065a9b",
   "metadata": {},
   "outputs": [
    {
     "data": {
      "text/plain": [
       "168539636"
      ]
     },
     "execution_count": 53,
     "metadata": {},
     "output_type": "execute_result"
    }
   ],
   "source": [
    "sum(prods)"
   ]
  },
  {
   "cell_type": "code",
   "execution_count": 56,
   "id": "54c5d707",
   "metadata": {},
   "outputs": [],
   "source": [
    "stripped_do = re.findall(r'do\\(\\)', line_joined)\n",
    "iter = re.finditer(r'do\\(\\)', line_joined)\n",
    "indices_do = [m.start(0) for m in iter]"
   ]
  },
  {
   "cell_type": "code",
   "execution_count": 61,
   "id": "39752cf5",
   "metadata": {},
   "outputs": [],
   "source": [
    "stripped_dont = re.findall(r\"don't\\(\\)\", line_joined)\n",
    "iter = re.finditer(r\"don't\\(\\)\", line_joined)\n",
    "indices_dont = [m.start(0) for m in iter]"
   ]
  },
  {
   "cell_type": "code",
   "execution_count": 64,
   "id": "3fb3b62e",
   "metadata": {},
   "outputs": [
    {
     "data": {
      "text/plain": [
       "[318,\n",
       " 1528,\n",
       " 1619,\n",
       " 3011,\n",
       " 3076,\n",
       " 3252,\n",
       " 3593,\n",
       " 4328,\n",
       " 4659,\n",
       " 4754,\n",
       " 4959,\n",
       " 5759,\n",
       " 6257,\n",
       " 7610,\n",
       " 8085,\n",
       " 8435,\n",
       " 8478,\n",
       " 8853,\n",
       " 10381,\n",
       " 10596,\n",
       " 11119,\n",
       " 11162,\n",
       " 11200,\n",
       " 11448,\n",
       " 12165,\n",
       " 13824,\n",
       " 14323,\n",
       " 15180,\n",
       " 15223,\n",
       " 15490,\n",
       " 17124,\n",
       " 17194,\n",
       " 17272,\n",
       " 18318]"
      ]
     },
     "execution_count": 64,
     "metadata": {},
     "output_type": "execute_result"
    }
   ],
   "source": [
    "indices_dont"
   ]
  },
  {
   "cell_type": "markdown",
   "id": "84fcfc20",
   "metadata": {},
   "source": [
    "I will create a long array of 1 and 0 for whether the start point should be included or not by checking if numbers are in the do or don't list."
   ]
  },
  {
   "cell_type": "code",
   "execution_count": 68,
   "id": "056c1170",
   "metadata": {},
   "outputs": [],
   "source": [
    "max_l = len(line_joined)"
   ]
  },
  {
   "cell_type": "code",
   "execution_count": 71,
   "id": "7782572f",
   "metadata": {},
   "outputs": [],
   "source": [
    "include_indices_list = []\n",
    "mul_include = []\n",
    "include = 1 # set to do by default\n",
    "for i in range(max_l):\n",
    "    if i in indices_dont:\n",
    "        include = 0\n",
    "    if i in indices_do:\n",
    "        include = 1\n",
    "    if i in indices:\n",
    "        mul_include.append(include)\n",
    "    include_indices_list.append(include)"
   ]
  },
  {
   "cell_type": "code",
   "execution_count": 80,
   "id": "bd5f04b1",
   "metadata": {},
   "outputs": [],
   "source": [
    "instruction_prods = [a*b for a,b in zip(mul_include, prods)]"
   ]
  },
  {
   "cell_type": "code",
   "execution_count": 81,
   "id": "a13ea88d",
   "metadata": {},
   "outputs": [
    {
     "data": {
      "text/plain": [
       "97529391"
      ]
     },
     "execution_count": 81,
     "metadata": {},
     "output_type": "execute_result"
    }
   ],
   "source": [
    "sum(instruction_prods)"
   ]
  },
  {
   "cell_type": "code",
   "execution_count": null,
   "id": "2b3372b3",
   "metadata": {},
   "outputs": [],
   "source": []
  }
 ],
 "metadata": {
  "kernelspec": {
   "display_name": "Python 3 (ipykernel)",
   "language": "python",
   "name": "python3"
  },
  "language_info": {
   "codemirror_mode": {
    "name": "ipython",
    "version": 3
   },
   "file_extension": ".py",
   "mimetype": "text/x-python",
   "name": "python",
   "nbconvert_exporter": "python",
   "pygments_lexer": "ipython3",
   "version": "3.11.5"
  }
 },
 "nbformat": 4,
 "nbformat_minor": 5
}
