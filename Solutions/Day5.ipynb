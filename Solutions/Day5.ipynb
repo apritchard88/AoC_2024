{
 "cells": [
  {
   "cell_type": "code",
   "execution_count": 138,
   "id": "af1c61ac",
   "metadata": {},
   "outputs": [],
   "source": [
    "data_path = \"data/Day_5_input.txt\"\n",
    "with open(data_path) as file:\n",
    "    lines = [line.rstrip() for line in file]"
   ]
  },
  {
   "cell_type": "code",
   "execution_count": 139,
   "id": "0be1b479",
   "metadata": {},
   "outputs": [],
   "source": [
    "sep_line = lines.index('')"
   ]
  },
  {
   "cell_type": "code",
   "execution_count": 140,
   "id": "b1ac374d",
   "metadata": {},
   "outputs": [],
   "source": [
    "rule_lines = lines[:sep_line]\n",
    "print_lines = lines[sep_line+1:]"
   ]
  },
  {
   "cell_type": "code",
   "execution_count": 141,
   "id": "bce2ff03",
   "metadata": {},
   "outputs": [],
   "source": [
    "# Create the rules both actual and opposite - will be easier to check for violations\n",
    "rules = [rule.split('|') for rule in rule_lines]\n",
    "rules_reverse = [rule[::-1] for rule in rules]"
   ]
  },
  {
   "cell_type": "code",
   "execution_count": 142,
   "id": "a27d7f4e",
   "metadata": {},
   "outputs": [],
   "source": [
    "prints = [print.split(',') for print in print_lines]"
   ]
  },
  {
   "cell_type": "code",
   "execution_count": 143,
   "id": "16f9c465",
   "metadata": {},
   "outputs": [],
   "source": [
    "def check_violations(rules_to_check, line):\n",
    "    to_check = []\n",
    "    for i in range(len(line)):\n",
    "        val = line[i]\n",
    "        before = line[:i]\n",
    "        after = line[i+1:]\n",
    "        for val_before in before:\n",
    "            this_pair = [val_before, val]\n",
    "            to_check.append(this_pair)\n",
    "        for val_after in after:\n",
    "            this_pair = [val, val_after]\n",
    "            to_check.append(this_pair)\n",
    "            \n",
    "    violated = []\n",
    "    for pair in to_check:\n",
    "        violated.append(pair in rules_to_check)\n",
    "            \n",
    "    return(sum(violated))"
   ]
  },
  {
   "cell_type": "code",
   "execution_count": 144,
   "id": "ccd103c0",
   "metadata": {},
   "outputs": [],
   "source": [
    "def find_central(line):\n",
    "    line_mid = int((len(line) - 1)/2)\n",
    "    cent_val = line[line_mid]\n",
    "    return(int(cent_val))"
   ]
  },
  {
   "cell_type": "code",
   "execution_count": 145,
   "id": "96ac8cf4",
   "metadata": {},
   "outputs": [],
   "source": [
    "central_tot = 0\n",
    "for line in prints:\n",
    "    violations = check_violations(rules_reverse, line)\n",
    "    if violations == 0:\n",
    "        this_central = find_central(line)\n",
    "        central_tot += this_central"
   ]
  },
  {
   "cell_type": "code",
   "execution_count": 146,
   "id": "6d90abd0",
   "metadata": {},
   "outputs": [
    {
     "data": {
      "text/plain": [
       "5955"
      ]
     },
     "execution_count": 146,
     "metadata": {},
     "output_type": "execute_result"
    }
   ],
   "source": [
    "central_tot"
   ]
  },
  {
   "cell_type": "markdown",
   "id": "22179035",
   "metadata": {},
   "source": [
    "## Part 2"
   ]
  },
  {
   "cell_type": "code",
   "execution_count": 125,
   "id": "d4ab1d2c",
   "metadata": {},
   "outputs": [],
   "source": [
    "def filter_rules(rules, vals):\n",
    "    filtered = []\n",
    "    for rule in rules:\n",
    "        if rule[0] in vals and rule[1] in vals:\n",
    "            filtered.append(rule)\n",
    "    return filtered"
   ]
  },
  {
   "cell_type": "code",
   "execution_count": 127,
   "id": "42567de5",
   "metadata": {},
   "outputs": [],
   "source": [
    "def count_occ(filt_rules, line):\n",
    "    ordered = []\n",
    "    for val in line:\n",
    "        val_count = 0\n",
    "        for rule in filt_rules:\n",
    "            if rule[0] == val:\n",
    "                val_count += 1\n",
    "        ordered.append([val, val_count])\n",
    "    return ordered"
   ]
  },
  {
   "cell_type": "code",
   "execution_count": 134,
   "id": "879004de",
   "metadata": {},
   "outputs": [],
   "source": [
    "def order_line(line):\n",
    "    sorted_line = sorted(line, key = lambda x: int(x[1]), reverse = True)\n",
    "    sorted_vals = [x[0] for x in sorted_line]\n",
    "    return sorted_vals"
   ]
  },
  {
   "cell_type": "code",
   "execution_count": 149,
   "id": "cc68afc0",
   "metadata": {},
   "outputs": [],
   "source": [
    "central_tot_fixed = 0\n",
    "for line in prints:\n",
    "    violations = check_violations(rules_reverse, line)\n",
    "    if violations != 0:\n",
    "        filtered_rules = filter_rules(rules, line)\n",
    "        occur_count = count_occ(filtered_rules, line)\n",
    "        correct_line = order_line(occur_count)\n",
    "        this_central = find_central(correct_line)\n",
    "        central_tot_fixed += this_central"
   ]
  },
  {
   "cell_type": "code",
   "execution_count": 150,
   "id": "afad5d55",
   "metadata": {},
   "outputs": [
    {
     "data": {
      "text/plain": [
       "4030"
      ]
     },
     "execution_count": 150,
     "metadata": {},
     "output_type": "execute_result"
    }
   ],
   "source": [
    "central_tot_fixed"
   ]
  },
  {
   "cell_type": "code",
   "execution_count": null,
   "id": "05d921e9",
   "metadata": {},
   "outputs": [],
   "source": []
  }
 ],
 "metadata": {
  "kernelspec": {
   "display_name": "Python 3 (ipykernel)",
   "language": "python",
   "name": "python3"
  },
  "language_info": {
   "codemirror_mode": {
    "name": "ipython",
    "version": 3
   },
   "file_extension": ".py",
   "mimetype": "text/x-python",
   "name": "python",
   "nbconvert_exporter": "python",
   "pygments_lexer": "ipython3",
   "version": "3.11.5"
  }
 },
 "nbformat": 4,
 "nbformat_minor": 5
}
